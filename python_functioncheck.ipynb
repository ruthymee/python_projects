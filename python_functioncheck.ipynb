{
 "cells": [
  {
   "cell_type": "markdown",
   "id": "42443710-90a3-4e77-9c5e-309da9c36ff5",
   "metadata": {},
   "source": [
    "#### Create four basic mathematical functions: 'add', 'subtract', 'multiply', and 'divide' that take in two numbers and return the result of the operation.\n",
    "#### Create a dictionary 'operations' that assigns the functions to their corresponding operation symbols.\n",
    "#### Create a function 'calculator' that prompts the user to input the first number.\n",
    "#### Use a for loop to print the available operation symbols.\n",
    "#### Create a while loop that will continue to run until the user chooses to end the current calculation.\n",
    "#### Inside the while loop, prompt the user to select an operation symbol.\n",
    "#### Prompt the user to input the second number.\n",
    "#### Use the dictionary to retrieve the function that corresponds to the selected operation symbol and store it in a variable 'calculation_function'\n",
    "#### Perform the calculation by calling the 'calculation_function' on the two input numbers and store the result in a variable 'answer'.\n",
    "#### Print the equation and the result of the calculation.\n",
    "#### Ask the user if they would like to continue using the result as the first number for further calculations.\n",
    "#### If the user chooses to continue, update the 'num1' variable to the value of 'answer'.\n",
    "#### If the user chooses to start a new calculation, set the 'should_continue' variable to false and call the 'calculator' function to start a new calculation."
   ]
  },
  {
   "cell_type": "code",
   "execution_count": 28,
   "id": "68aae947-b62b-4491-b6b9-113b334106c8",
   "metadata": {},
   "outputs": [],
   "source": [
    "#create basic mathematical function\n",
    "def  add(num1,num2):\n",
    "    return num1 + num2\n",
    "    \n",
    "def substract(num1,num2):\n",
    "    return num1-num2\n",
    "\n",
    "def multiply(num1,num2):\n",
    "    return num1*num2\n",
    "\n",
    "def divide(num1,num2):\n",
    "    if num2 !=0:\n",
    "        return num1/num2\n",
    "    else: \n",
    "        return \"cannot be divisible by zero\"\n",
    "\n",
    "#create a dictionary that assign the functions to their corresponding operations\n",
    "basic_operations= {'+': add, '-': substract, '*':multiply, '/':divide}\n"
   ]
  },
  {
   "cell_type": "code",
   "execution_count": null,
   "id": "3c5afc56-b4cf-4958-8d0a-6cf8b1c4ec8a",
   "metadata": {},
   "outputs": [
    {
     "name": "stdin",
     "output_type": "stream",
     "text": [
      "Enter the first number:  6\n"
     ]
    },
    {
     "name": "stdout",
     "output_type": "stream",
     "text": [
      "\n",
      "Available operations:\n",
      "+\n",
      "-\n",
      "*\n",
      "/\n"
     ]
    },
    {
     "name": "stdin",
     "output_type": "stream",
     "text": [
      "Select an operation:  \n"
     ]
    },
    {
     "name": "stdout",
     "output_type": "stream",
     "text": [
      "Invalid operation. Please select a valid operation.\n",
      "\n",
      "Available operations:\n",
      "+\n",
      "-\n",
      "*\n",
      "/\n"
     ]
    },
    {
     "name": "stdin",
     "output_type": "stream",
     "text": [
      "Select an operation:  \n"
     ]
    },
    {
     "name": "stdout",
     "output_type": "stream",
     "text": [
      "Invalid operation. Please select a valid operation.\n",
      "\n",
      "Available operations:\n",
      "+\n",
      "-\n",
      "*\n",
      "/\n"
     ]
    },
    {
     "name": "stdin",
     "output_type": "stream",
     "text": [
      "Select an operation:  \n"
     ]
    },
    {
     "name": "stdout",
     "output_type": "stream",
     "text": [
      "Invalid operation. Please select a valid operation.\n",
      "\n",
      "Available operations:\n",
      "+\n",
      "-\n",
      "*\n",
      "/\n"
     ]
    },
    {
     "name": "stdin",
     "output_type": "stream",
     "text": [
      "Select an operation:  \n"
     ]
    },
    {
     "name": "stdout",
     "output_type": "stream",
     "text": [
      "Invalid operation. Please select a valid operation.\n",
      "\n",
      "Available operations:\n",
      "+\n",
      "-\n",
      "*\n",
      "/\n"
     ]
    },
    {
     "name": "stdin",
     "output_type": "stream",
     "text": [
      "Select an operation:  \n"
     ]
    },
    {
     "name": "stdout",
     "output_type": "stream",
     "text": [
      "Invalid operation. Please select a valid operation.\n",
      "\n",
      "Available operations:\n",
      "+\n",
      "-\n",
      "*\n",
      "/\n"
     ]
    },
    {
     "name": "stdin",
     "output_type": "stream",
     "text": [
      "Select an operation:  +\n",
      "Enter the second number:  4\n"
     ]
    },
    {
     "name": "stdout",
     "output_type": "stream",
     "text": [
      "6.0 + 4.0 = 10.0\n"
     ]
    },
    {
     "name": "stdin",
     "output_type": "stream",
     "text": [
      "Would you like to continue with this result as the first number? (yes/no):  yes\n"
     ]
    },
    {
     "name": "stdout",
     "output_type": "stream",
     "text": [
      "\n",
      "Available operations:\n",
      "+\n",
      "-\n",
      "*\n",
      "/\n"
     ]
    },
    {
     "name": "stdin",
     "output_type": "stream",
     "text": [
      "Select an operation:  -\n",
      "Enter the second number:  2\n"
     ]
    },
    {
     "name": "stdout",
     "output_type": "stream",
     "text": [
      "10.0 - 2.0 = 8.0\n"
     ]
    },
    {
     "name": "stdin",
     "output_type": "stream",
     "text": [
      "Would you like to continue with this result as the first number? (yes/no):  yes\n"
     ]
    },
    {
     "name": "stdout",
     "output_type": "stream",
     "text": [
      "\n",
      "Available operations:\n",
      "+\n",
      "-\n",
      "*\n",
      "/\n"
     ]
    },
    {
     "name": "stdin",
     "output_type": "stream",
     "text": [
      "Select an operation:  *\n",
      "Enter the second number:  8\n"
     ]
    },
    {
     "name": "stdout",
     "output_type": "stream",
     "text": [
      "8.0 * 8.0 = 64.0\n"
     ]
    },
    {
     "name": "stdin",
     "output_type": "stream",
     "text": [
      "Would you like to continue with this result as the first number? (yes/no):  yes\n"
     ]
    },
    {
     "name": "stdout",
     "output_type": "stream",
     "text": [
      "\n",
      "Available operations:\n",
      "+\n",
      "-\n",
      "*\n",
      "/\n"
     ]
    },
    {
     "name": "stdin",
     "output_type": "stream",
     "text": [
      "Select an operation:  /\n",
      "Enter the second number:  2\n"
     ]
    },
    {
     "name": "stdout",
     "output_type": "stream",
     "text": [
      "64.0 / 2.0 = 32.0\n"
     ]
    },
    {
     "name": "stdin",
     "output_type": "stream",
     "text": [
      "Would you like to continue with this result as the first number? (yes/no):  +\n",
      "Enter the first number:  3\n"
     ]
    },
    {
     "name": "stdout",
     "output_type": "stream",
     "text": [
      "\n",
      "Available operations:\n",
      "+\n",
      "-\n",
      "*\n",
      "/\n"
     ]
    },
    {
     "name": "stdin",
     "output_type": "stream",
     "text": [
      "Select an operation:  %\n"
     ]
    },
    {
     "name": "stdout",
     "output_type": "stream",
     "text": [
      "Invalid operation. Please select a valid operation.\n",
      "\n",
      "Available operations:\n",
      "+\n",
      "-\n",
      "*\n",
      "/\n"
     ]
    }
   ],
   "source": [
    "# Create function that prompt the user to input first number\n",
    "def calculator():\n",
    "    num1 = float(input(\"Enter the first number: \"))\n",
    "\n",
    "    #create while loop\n",
    "    should_continue = True\n",
    "    \n",
    "    while should_continue:\n",
    "        print(\"\\nAvailable operations:\")\n",
    "        for symbol in basic_operations:\n",
    "            print(symbol)\n",
    "\n",
    "        operation_symbol = input(\"Select an operation: \")   # Prompt user to select an operation symbol\n",
    "\n",
    "        if operation_symbol in basic_operations:  # Check if the operation symbol is valid\n",
    "            num2 = float(input(\"Enter the second number: \")) \n",
    "\n",
    "            calculation_function = basic_operations[operation_symbol]  # Retrieve the corresponding function and perform the calculation\n",
    "            answer = calculation_function(num1, num2)\n",
    "            print(f\"{num1} {operation_symbol} {num2} = {answer}\") #print the equation and result\n",
    "\n",
    "            continue_result = input(\"Would you like to continue with this result as the first number? (yes/no): \").lower() #Ask the user if they would like to\n",
    "                                                                                                                            #continue with the result\n",
    "                                                                                                                            #as the first number\n",
    "            if continue_result== 'yes':\n",
    "                num1 = answer  # make the result num1\n",
    "            else:\n",
    "                should_continue = False  # Start a new calculation\n",
    "                calculator()  # Call the calculator function again\n",
    "        else:\n",
    "            print(\"Invalid operation. Please select a valid operation.\")\n",
    "\n",
    "calculator()\n"
   ]
  },
  {
   "cell_type": "code",
   "execution_count": null,
   "id": "2543ef61-5cea-463d-8afb-0ae3c3707764",
   "metadata": {},
   "outputs": [],
   "source": []
  }
 ],
 "metadata": {
  "kernelspec": {
   "display_name": "Python 3 (ipykernel)",
   "language": "python",
   "name": "python3"
  },
  "language_info": {
   "codemirror_mode": {
    "name": "ipython",
    "version": 3
   },
   "file_extension": ".py",
   "mimetype": "text/x-python",
   "name": "python",
   "nbconvert_exporter": "python",
   "pygments_lexer": "ipython3",
   "version": "3.12.4"
  }
 },
 "nbformat": 4,
 "nbformat_minor": 5
}
