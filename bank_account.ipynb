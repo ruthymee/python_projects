{
 "cells": [
  {
   "cell_type": "markdown",
   "id": "e9860e2d-5b0d-4476-bd0c-3ce76ac189d0",
   "metadata": {},
   "source": [
    "#### Create a new file called \"bank_account.py\"\n",
    "#### Define the Account class and its attributes as specified above.\n",
    "#### Define the deposit() method. It should take in one argument, the amount to be deposited, and add it to the account balance.\n",
    "#### Define the withdraw() method. It should take in one argument, the amount to be withdrawn, and subtract it from the account balance. The method should #### only execute the withdrawal if the account balance is greater than or equal to the amount to be withdrawn.\n",
    "#### Define the check_balance() method. It should return the current account balance.\n",
    "#### Create an instance of the Account class, and assign it to a variable called \"my_account\".\n",
    "#### Use the methods of the class to deposit and withdraw money from the account, and check the account balance.\n",
    "#### Test the program by creating multiple instances of the class and performing different transactions on them."
   ]
  },
  {
   "cell_type": "code",
   "execution_count": 42,
   "id": "f3ce6ba7-6135-4bf0-b5b5-56547ddbec3f",
   "metadata": {},
   "outputs": [
    {
     "name": "stdout",
     "output_type": "stream",
     "text": [
      "Deposited ) #2500.0. current account balance is 52500.0\n",
      "Withdrew #1500.0. New balance is #51000.0.\n",
      "My account balance: #51000.0\n",
      "Deposited ) #4000.0. current account balance is 14000.0\n",
      "Insufficient funds for this withdrawal.\n",
      "Withdrew #3000.0. New balance is #11000.0.\n",
      "Different transact balance: #11000.0\n"
     ]
    }
   ],
   "source": [
    "class Account: #define the class name\n",
    "    def __init__(self, account_number:str, account_holder:str,account_balance:float=0.0): #initialize the class to include its attributes\n",
    "        self.account_number= account_number\n",
    "        self.account_balance= account_balance\n",
    "        self.account_holder= account_holder\n",
    "\n",
    "    #Define the deposit() method. It should take in one argument, the amount to be deposited, and add it to the account balance.\n",
    "    def deposit(self, amount:float):\n",
    "        if amount >0:\n",
    "            self.account_balance += amount\n",
    "            print(f\"Deposited ) #{amount}. current account balance is {self.account_balance}\")\n",
    "\n",
    "        else:\n",
    "            print(\"Deposit amount must be positive\")\n",
    "\n",
    "\n",
    "#Define the withdraw() method. It should take in one argument, the amount to be withdrawn, and subtract it from the account balance.\n",
    "#The method should #### only execute the withdrawal if the account balance is greater than or equal to the amount to be withdrawn.  \n",
    "\n",
    "   # def withdraw(self, amount:float):\n",
    "      #  if amount is >0:\n",
    "           # if amount is <= self.account_balance:\n",
    "            #    self.account_balance -=amount\n",
    "              #  print(f\"withdrew #{amount}. current account balance is #{amount}\")\n",
    "            #else:\n",
    "                #print(\"withdrawal amount is insufficient\")\n",
    "        #else:\n",
    "           # print(\"withdrawal amount must be positive\")\n",
    "\n",
    "    def withdraw(self, amount: float):\n",
    "        \"\"\"Subtract the amount from the account balance if sufficient funds are available.\"\"\"\n",
    "        if amount > 0:\n",
    "            if amount <= self.account_balance:\n",
    "                self.account_balance -= amount\n",
    "                print(f\"Withdrew #{amount:}. New balance is #{self.account_balance:}.\")\n",
    "            else:\n",
    "                print(\"Insufficient funds for this withdrawal.\")\n",
    "        else:\n",
    "            print(\"Withdrawal amount must be positive.\")\n",
    "\n",
    "\n",
    "\n",
    "#Define the check_balance() method. It should return the current account balance.\n",
    "    def check_balance(self) -> float:\n",
    "        return self.account_balance\n",
    "\n",
    "\n",
    "# Create an instance of the Account class, and assign it to a variable called \"my_account\".\n",
    "if __name__ == \"__main__\":\n",
    "    my_account = Account(\"0258526810\", \"James Ruth\", 50000.0)\n",
    "    different_transact = Account(\"8164216674\", \"Bright Shola\", 10000.0)\n",
    "\n",
    "    # Use the methods of the class to deposit and withdraw money from the account, and check the account balance.\n",
    "    my_account.deposit(2500.0)\n",
    "    my_account.withdraw(1500.0)\n",
    "    print(f\"My account balance: #{my_account.check_balance()}\")\n",
    "\n",
    "    # Test the program by creating multiple instances of the class and performing different transactions on them\n",
    "    different_transact.deposit(4000.0)\n",
    "    different_transact.withdraw(15000.0)  # Should show insufficient funds\n",
    "    different_transact.withdraw(3000.0)\n",
    "    print(f\"Different transact balance: #{different_transact.check_balance()}\")                "
   ]
  },
  {
   "cell_type": "code",
   "execution_count": null,
   "id": "771faaae-a910-4473-9203-e7a704fa6758",
   "metadata": {},
   "outputs": [],
   "source": []
  }
 ],
 "metadata": {
  "kernelspec": {
   "display_name": "Python 3 (ipykernel)",
   "language": "python",
   "name": "python3"
  },
  "language_info": {
   "codemirror_mode": {
    "name": "ipython",
    "version": 3
   },
   "file_extension": ".py",
   "mimetype": "text/x-python",
   "name": "python",
   "nbconvert_exporter": "python",
   "pygments_lexer": "ipython3",
   "version": "3.12.4"
  }
 },
 "nbformat": 4,
 "nbformat_minor": 5
}
