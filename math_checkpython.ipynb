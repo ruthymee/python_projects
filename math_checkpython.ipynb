{
 "cells": [
  {
   "cell_type": "markdown",
   "id": "e8e72f92-3bdf-480a-9da2-eb73a1f3f590",
   "metadata": {},
   "source": [
    "#### Create a new file called \"calculator_2.0.py\"\n",
    "#### Create a class called \"Calculator\" that contains the following:\n",
    "#### A dictionary attribute to store the available mathematical operations and their corresponding functions\n",
    "#### A method called \"init\" that initializes the dictionary with the basic mathematical operations (+, -, *, /) and corresponding functions\n",
    "#### A method called \"add_operation\" that takes in two arguments: the operation symbol and the corresponding function. This method should add the new operation and function to the dictionary.\n",
    "#### A method called \"calculate\" that takes in three arguments: the first number, the operation symbol, and the second number. This method should use the dictionary to determine the appropriate function to perform the calculation. It should also include error handling to check if the operation symbol is valid and if the input values are numbers. If an error is encountered, the method should print an error message and raise an exception.\n",
    "#### Create separate functions for the advanced mathematical operations (exponentiation, square root, logarithm) and use the \"add_operation\" method to add them to the calculator's dictionary.\n",
    "#### In the main program, create an instance of the Calculator class, and use a while loop that allows the user to continue performing calculations until they choose to exit.\n",
    "#### Use the input() function to get input from the user for the numbers and operation symbol.Use the math library for advanced mathematical operations\n",
    "#### Use the isinstance() function to check if the input is a number."
   ]
  },
  {
   "cell_type": "code",
   "execution_count": 44,
   "id": "497a31f2-de1e-4b0c-b15c-551878087cdb",
   "metadata": {},
   "outputs": [
    {
     "name": "stdout",
     "output_type": "stream",
     "text": [
      "\n",
      "Available operations: +, -, *, /, ** (exponentiation), sqrt (square root), log (logarithm)\n"
     ]
    },
    {
     "name": "stdin",
     "output_type": "stream",
     "text": [
      "Enter operation (or 'exit' to quit):  +\n",
      "Enter first number:  20\n",
      "Enter second number:  10\n"
     ]
    },
    {
     "name": "stdout",
     "output_type": "stream",
     "text": [
      "Result: 30.0\n",
      "\n",
      "Available operations: +, -, *, /, ** (exponentiation), sqrt (square root), log (logarithm)\n"
     ]
    },
    {
     "name": "stdin",
     "output_type": "stream",
     "text": [
      "Enter operation (or 'exit' to quit):  -\n",
      "Enter first number:  20\n",
      "Enter second number:  10\n"
     ]
    },
    {
     "name": "stdout",
     "output_type": "stream",
     "text": [
      "Result: 10.0\n",
      "\n",
      "Available operations: +, -, *, /, ** (exponentiation), sqrt (square root), log (logarithm)\n"
     ]
    },
    {
     "name": "stdin",
     "output_type": "stream",
     "text": [
      "Enter operation (or 'exit' to quit):  *\n",
      "Enter first number:  10\n",
      "Enter second number:  10\n"
     ]
    },
    {
     "name": "stdout",
     "output_type": "stream",
     "text": [
      "Result: 100.0\n",
      "\n",
      "Available operations: +, -, *, /, ** (exponentiation), sqrt (square root), log (logarithm)\n"
     ]
    },
    {
     "name": "stdin",
     "output_type": "stream",
     "text": [
      "Enter operation (or 'exit' to quit):  **\n",
      "Enter first number:  80\n",
      "Enter second number:  2\n"
     ]
    },
    {
     "name": "stdout",
     "output_type": "stream",
     "text": [
      "Result: 6400.0\n",
      "\n",
      "Available operations: +, -, *, /, ** (exponentiation), sqrt (square root), log (logarithm)\n"
     ]
    },
    {
     "name": "stdin",
     "output_type": "stream",
     "text": [
      "Enter operation (or 'exit' to quit):  /\n",
      "Enter first number:  10\n",
      "Enter second number:  0\n"
     ]
    },
    {
     "name": "stdout",
     "output_type": "stream",
     "text": [
      "Cannot be divisible by zero.\n",
      "\n",
      "Available operations: +, -, *, /, ** (exponentiation), sqrt (square root), log (logarithm)\n"
     ]
    },
    {
     "name": "stdin",
     "output_type": "stream",
     "text": [
      "Enter operation (or 'exit' to quit):  exit\n"
     ]
    },
    {
     "name": "stdout",
     "output_type": "stream",
     "text": [
      "Exiting the calculator. Goodbye!\n"
     ]
    }
   ],
   "source": [
    "class Calculator:\n",
    "    def __init__(self):\n",
    "        self.math_operations= {'+':self.add, \n",
    "                           '-':self.substract, \n",
    "                           '*':self.multiply, \n",
    "                           '/':self.divide}\n",
    "    def add(self, x,y):\n",
    "        return x + y\n",
    "    def substract(self, x,y):\n",
    "        return x - y\n",
    "    def multiply(self, x,y):\n",
    "        return x * y\n",
    "\n",
    "    def divide(self, a, b):\n",
    "        if b == 0:\n",
    "            raise ValueError(\"Cannot be divisible by zero.\")\n",
    "        return a / b\n",
    "\n",
    "    def add_operation(self, symbol, function):\n",
    "        self.math_operations[symbol] = function\n",
    "\n",
    "    def calculate(self, num1, operation, num2):\n",
    "        if operation not in self.math_operations:\n",
    "            print(f\"Error: Operation '{operation}' is not valid.\")\n",
    "            raise ValueError(f\"Invalid operation: {operation}\")\n",
    "\n",
    "        if not (isinstance(num1, (int, float)) and isinstance(num2, (int, float))):\n",
    "            print(\"Error: Both inputs must be numbers.\")\n",
    "            raise TypeError(\"Inputs must be numbers.\")\n",
    "        return self.math_operations[operation](num1, num2)\n",
    "\n",
    "# Advanced mathematical operations\n",
    "def exponentiation(a, b):\n",
    "    return a ** b\n",
    "\n",
    "def square_root(a):\n",
    "    if a < 0:\n",
    "        raise ValueError(\"Cannot take the square root of a negative number.\")\n",
    "    return math.sqrt(a)\n",
    "\n",
    "def logarithm(a, base=math.e):\n",
    "    if a <= 0:\n",
    "        raise ValueError(\"Logarithm undefined for non-positive values.\")\n",
    "    return math.log(a, base)\n",
    "\n",
    "# Main program\n",
    "if __name__ == \"__main__\":\n",
    "    calc = Calculator()\n",
    "    \n",
    "    # Add advanced operations\n",
    "    calc.add_operation('**', exponentiation)\n",
    "    calc.add_operation('sqrt', square_root)\n",
    "    calc.add_operation('log', logarithm)\n",
    "\n",
    "    while True:\n",
    "        print(\"\\nAvailable operations: +, -, *, /, ** (exponentiation), sqrt (square root), log (logarithm)\")\n",
    "        operation = input(\"Enter operation (or 'exit' to quit): \")\n",
    "\n",
    "        if operation.lower() == 'exit':\n",
    "            print(\"Exiting the calculator. Goodbye!\")\n",
    "            break\n",
    "\n",
    "        if operation in ['sqrt', 'log']:\n",
    "            num1 = float(input(\"Enter the number: \"))\n",
    "            try:\n",
    "                if operation == 'sqrt':\n",
    "                    result = calc.calculate(num1, operation, 0)  # Second number is not used for sqrt\n",
    "                else:\n",
    "                    base = float(input(\"Enter the base (default is e): \") or math.e)\n",
    "                    result = logarithm(num1, base)\n",
    "                print(f\"Result: {result}\")\n",
    "            except Exception as e:\n",
    "                print(e)\n",
    "        else:\n",
    "            num1 = float(input(\"Enter first number: \"))\n",
    "            num2 = float(input(\"Enter second number: \"))\n",
    "            try:\n",
    "                result = calc.calculate(num1, operation, num2)\n",
    "                print(f\"Result: {result}\")\n",
    "            except Exception as e:\n",
    "                print(e)"
   ]
  },
  {
   "cell_type": "code",
   "execution_count": null,
   "id": "d78f323f-82e4-44a0-a9de-b25d44472c6f",
   "metadata": {},
   "outputs": [],
   "source": []
  },
  {
   "cell_type": "code",
   "execution_count": null,
   "id": "78acc548-c060-40a3-97a9-f608fa5b077d",
   "metadata": {},
   "outputs": [],
   "source": []
  },
  {
   "cell_type": "code",
   "execution_count": null,
   "id": "7f405502-5bdb-444d-b83f-8555bf6053a8",
   "metadata": {},
   "outputs": [],
   "source": []
  },
  {
   "cell_type": "code",
   "execution_count": null,
   "id": "870816f6-bfa3-42bf-a01e-4f3cd189a919",
   "metadata": {},
   "outputs": [],
   "source": []
  }
 ],
 "metadata": {
  "kernelspec": {
   "display_name": "Python 3 (ipykernel)",
   "language": "python",
   "name": "python3"
  },
  "language_info": {
   "codemirror_mode": {
    "name": "ipython",
    "version": 3
   },
   "file_extension": ".py",
   "mimetype": "text/x-python",
   "name": "python",
   "nbconvert_exporter": "python",
   "pygments_lexer": "ipython3",
   "version": "3.12.4"
  }
 },
 "nbformat": 4,
 "nbformat_minor": 5
}
