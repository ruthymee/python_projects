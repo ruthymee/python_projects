{
 "cells": [
  {
   "cell_type": "markdown",
   "id": "f3a54841-c8f5-44ed-8d2e-2f6286b612a3",
   "metadata": {},
   "source": [
    "#### Create a list named 'shopping_list' to store the items.\n",
    "#### Use a while loop to create a menu of options for the user to add, remove, or view items from the list.\n",
    "#### Use the input() function to prompt the user to make a selection from the menu.\n",
    "#### Use an if-elif-else block to determine the user's selection and perform the corresponding action.\n",
    "#### If the user selects 'add', use the input() function to prompt the user to enter an item to add to the list. Use the range() function to limit the #### number of items that can be added to the list.\n",
    "#### If the user selects 'remove', use the input() function to prompt the user to enter an item to remove from the list.\n",
    "#### If the user selects 'view', use a for loop to iterate through the list of items and display them to the user.\n",
    "#### Use the list, tuple, set, and dictionary data structures to store and manipulate the shopping items."
   ]
  },
  {
   "cell_type": "code",
   "execution_count": 2,
   "id": "4eba6553-5098-49b5-891f-d92ab053a806",
   "metadata": {},
   "outputs": [],
   "source": [
    "shopping_list= []"
   ]
  },
  {
   "cell_type": "code",
   "execution_count": 4,
   "id": "3bb6880b-6805-4646-be57-7936dd0cc6fc",
   "metadata": {},
   "outputs": [
    {
     "name": "stdout",
     "output_type": "stream",
     "text": [
      "\n",
      "Menu:\n",
      "1. Add item\n",
      "2. Remove item\n",
      "3. View items\n",
      "4. Exit\n"
     ]
    },
    {
     "name": "stdin",
     "output_type": "stream",
     "text": [
      "Select an option (1-4):  1\n",
      "Enter the item to add:  shirt\n"
     ]
    },
    {
     "name": "stdout",
     "output_type": "stream",
     "text": [
      "shirt has been added to the shopping list.\n",
      "\n",
      "Menu:\n",
      "1. Add item\n",
      "2. Remove item\n",
      "3. View items\n",
      "4. Exit\n"
     ]
    },
    {
     "name": "stdin",
     "output_type": "stream",
     "text": [
      "Select an option (1-4):  2\n",
      "Enter the item to remove:  bag\n"
     ]
    },
    {
     "name": "stdout",
     "output_type": "stream",
     "text": [
      "bag has been removed from the shopping list.\n",
      "\n",
      "Menu:\n",
      "1. Add item\n",
      "2. Remove item\n",
      "3. View items\n",
      "4. Exit\n"
     ]
    },
    {
     "name": "stdin",
     "output_type": "stream",
     "text": [
      "Select an option (1-4):  3\n"
     ]
    },
    {
     "name": "stdout",
     "output_type": "stream",
     "text": [
      "Shopping List:\n",
      "1. scandal\n",
      "2. shoe\n",
      "3. gown\n",
      "4. slippers\n",
      "5. necklace\n",
      "6. bracelet\n",
      "7. wristwatch\n",
      "8. jean\n",
      "9. shirt\n",
      "\n",
      "Menu:\n",
      "1. Add item\n",
      "2. Remove item\n",
      "3. View items\n",
      "4. Exit\n"
     ]
    },
    {
     "name": "stdin",
     "output_type": "stream",
     "text": [
      "Select an option (1-4):  4\n"
     ]
    },
    {
     "name": "stdout",
     "output_type": "stream",
     "text": [
      "Exiting the shopping list program.\n"
     ]
    }
   ],
   "source": [
    "# create the shopping list\n",
    "shopping_list = [\"bag\", \"scandal\",\"shoe\", \"gown\", \"slippers\", \"necklace\", \"bracelet\",\"wristwatch\",\"jean\"]\n",
    "\n",
    "# Define the menu options\n",
    "def menu_options():\n",
    "    print(\"\\nMenu:\")\n",
    "    print(\"1. Add item\")\n",
    "    print(\"2. Remove item\")\n",
    "    print(\"3. View items\")\n",
    "    print(\"4. Exit\")\n",
    "\n",
    "\n",
    "# using while loop to create menu option\n",
    "while True:\n",
    "    menu_options()\n",
    "    choice = input(\"Select an option (1-4): \")#input() function to prompt the user to make a selection from the menu.\n",
    "\n",
    "\n",
    "    if choice == '1':\n",
    "        max_items = 10  # Limit the number of items to add\n",
    "        if len(shopping_list) < max_items:\n",
    "            item = input(\"Enter the item to add: \")\n",
    "            shopping_list.append(item)\n",
    "            print(f\"{item} has been added to the shopping list.\")\n",
    "        else:\n",
    "            print(\"You have reached the maximum number of items that can be added.\")\n",
    "\n",
    "    elif choice == '2':\n",
    "        item = input(\"Enter the item to remove: \")\n",
    "        if item in shopping_list:\n",
    "            shopping_list.remove(item)\n",
    "            print(f\"{item} has been removed from the shopping list.\")\n",
    "        else:\n",
    "            print(f\"{item} is not in the shopping list.\")\n",
    "\n",
    "    elif choice == '3':\n",
    "        if shopping_list:\n",
    "            print(\"Shopping List:\")\n",
    "            for index, item in enumerate(shopping_list, start=1):\n",
    "                print(f\"{index}. {item}\")\n",
    "        else:\n",
    "            print(\"The shopping list is empty.\")\n",
    "\n",
    "    elif choice == '4':\n",
    "        print(\"Exiting the shopping list program.\")\n",
    "        break\n",
    "\n",
    "    else:\n",
    "        print(\"Invalid selection. Please choose a valid option.\")"
   ]
  },
  {
   "cell_type": "code",
   "execution_count": null,
   "id": "81b08cba-ca15-4528-9dd1-100ef7a3a014",
   "metadata": {},
   "outputs": [],
   "source": []
  },
  {
   "cell_type": "code",
   "execution_count": null,
   "id": "5ed8545c-2d36-486f-95cb-e4ecba9073ab",
   "metadata": {},
   "outputs": [],
   "source": []
  }
 ],
 "metadata": {
  "kernelspec": {
   "display_name": "Python 3 (ipykernel)",
   "language": "python",
   "name": "python3"
  },
  "language_info": {
   "codemirror_mode": {
    "name": "ipython",
    "version": 3
   },
   "file_extension": ".py",
   "mimetype": "text/x-python",
   "name": "python",
   "nbconvert_exporter": "python",
   "pygments_lexer": "ipython3",
   "version": "3.12.4"
  }
 },
 "nbformat": 4,
 "nbformat_minor": 5
}
