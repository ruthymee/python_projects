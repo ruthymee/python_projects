{
 "cells": [
  {
   "cell_type": "markdown",
   "id": "44166c66-a494-484a-aa1c-28d65f7a6699",
   "metadata": {},
   "source": [
    "## Create a numpy array called \"grades\" that contains the following grades: [85, 90, 88, 92, 95, 80, 75, 98, 89, 83]\n",
    "\n",
    "\n",
    " ### Instructions\n",
    "\n",
    "##### Create a new file called \"grades_analysis.py\"\n",
    "##### Import the numpy library and create the \"grades\" array as specified above.\n",
    "##### Use numpy functions to calculate the mean, median, and standard deviation of the grades.\n",
    "##### Use numpy function to find the maximum and minimum of the grades.\n",
    "##### Use numpy function to sort the grades in ascending order.\n",
    "##### Use numpy function to find the index of the highest grade in the array.\n",
    "##### Use numpy function to count the number of students who scored above 90.\n",
    "##### Use numpy function to calculate the percentage of students who scored above 90.\n",
    "##### Use numpy function to calculate the percentage of students who scored below 75.\n",
    "##### Use numpy function to extract all the grades above 90 and put them in a new array called \"high_performers\".\n",
    "##### Create a new array called \"passing_grades\" that contains all the grades above 75.\n",
    "##### Print the result of all the above steps.\n",
    "## Note:\n",
    "\n",
    "##### to calculate percentage use numpy.mean(grades > 90) * 100\n",
    "##### to extract the grades above 90 use grades[grades > 90]\n",
    "##### to extract the grades above 75 use grades[grades > 75]\n",
    "##### You can use other numpy functions as well to analyze the data as you want. The above steps are just examples of what can be done"
   ]
  },
  {
   "cell_type": "code",
   "execution_count": 2,
   "id": "861314ec-16b5-40d4-8203-406de9124dda",
   "metadata": {},
   "outputs": [],
   "source": [
    "import numpy as np"
   ]
  },
  {
   "cell_type": "code",
   "execution_count": 18,
   "id": "19def20b-2c1e-431d-855c-ba4d95ec158e",
   "metadata": {},
   "outputs": [],
   "source": [
    "grades =np.array([85, 90, 88, 92, 95, 80, 75, 98]) #assign the array to a name \"grades\""
   ]
  },
  {
   "cell_type": "code",
   "execution_count": 22,
   "id": "97355bae-9dc0-4aaf-a80e-16c7c4b593bc",
   "metadata": {},
   "outputs": [
    {
     "data": {
      "text/plain": [
       "array([85, 90, 88, 92, 95, 80, 75, 98])"
      ]
     },
     "execution_count": 22,
     "metadata": {},
     "output_type": "execute_result"
    }
   ],
   "source": [
    "grades"
   ]
  },
  {
   "cell_type": "code",
   "execution_count": 24,
   "id": "7b715157-d6d3-4aef-9079-dad2db8aa744",
   "metadata": {},
   "outputs": [
    {
     "data": {
      "text/plain": [
       "87.875"
      ]
     },
     "execution_count": 24,
     "metadata": {},
     "output_type": "execute_result"
    }
   ],
   "source": [
    "np.mean(grades) #print the mean"
   ]
  },
  {
   "cell_type": "code",
   "execution_count": 26,
   "id": "f3774ade-f2f7-44b5-969d-9852666da7a3",
   "metadata": {},
   "outputs": [
    {
     "data": {
      "text/plain": [
       "89.0"
      ]
     },
     "execution_count": 26,
     "metadata": {},
     "output_type": "execute_result"
    }
   ],
   "source": [
    "np.median(grades) #print the median"
   ]
  },
  {
   "cell_type": "code",
   "execution_count": 28,
   "id": "4e7ea170-1c84-45f6-b67c-3233f919164e",
   "metadata": {},
   "outputs": [
    {
     "data": {
      "text/plain": [
       "7.166545541612082"
      ]
     },
     "execution_count": 28,
     "metadata": {},
     "output_type": "execute_result"
    }
   ],
   "source": [
    "np.std(grades) #print the standard deviation"
   ]
  },
  {
   "cell_type": "code",
   "execution_count": 30,
   "id": "210d13b3-9347-432a-a352-5aca1d9a0124",
   "metadata": {},
   "outputs": [
    {
     "data": {
      "text/plain": [
       "98"
      ]
     },
     "execution_count": 30,
     "metadata": {},
     "output_type": "execute_result"
    }
   ],
   "source": [
    "np.max(grades) #print the maximum number in the array"
   ]
  },
  {
   "cell_type": "code",
   "execution_count": 32,
   "id": "cbe5e2b5-53c6-4179-a6bf-65155faf2ff8",
   "metadata": {},
   "outputs": [
    {
     "data": {
      "text/plain": [
       "75"
      ]
     },
     "execution_count": 32,
     "metadata": {},
     "output_type": "execute_result"
    }
   ],
   "source": [
    "np.min(grades) #print the minimum number in the array"
   ]
  },
  {
   "cell_type": "code",
   "execution_count": 34,
   "id": "b09228fe-9e22-4825-93ea-90571ee669aa",
   "metadata": {},
   "outputs": [
    {
     "data": {
      "text/plain": [
       "array([75, 80, 85, 88, 90, 92, 95, 98])"
      ]
     },
     "execution_count": 34,
     "metadata": {},
     "output_type": "execute_result"
    }
   ],
   "source": [
    "#Use numpy function to sort the grades in ascending order.\n",
    "grades =np.array([85, 90, 88, 92, 95, 80, 75, 98])\n",
    "sorted_grades= np.sort(grades)\n",
    "sorted_grades"
   ]
  },
  {
   "cell_type": "code",
   "execution_count": 50,
   "id": "1059c456-40c8-4865-95b1-6e4f9a1b3e4b",
   "metadata": {},
   "outputs": [
    {
     "data": {
      "text/plain": [
       "7"
      ]
     },
     "execution_count": 50,
     "metadata": {},
     "output_type": "execute_result"
    }
   ],
   "source": [
    "#Use numpy function to find the index of the highest grade in the array.\n",
    "grades =np.array([85, 90, 88, 92, 95, 80, 75, 98])\n",
    "highest_grade = np.max(grades)\n",
    "highest_grade_index = np.where(grades ==highest_grade)[0][0]\n",
    "highest_grade_index"
   ]
  },
  {
   "cell_type": "code",
   "execution_count": 44,
   "id": "6473faea-076c-4e55-862c-96ab4eb52ebc",
   "metadata": {},
   "outputs": [
    {
     "data": {
      "text/plain": [
       "7"
      ]
     },
     "execution_count": 44,
     "metadata": {},
     "output_type": "execute_result"
    }
   ],
   "source": [
    "highest_grade_index = np.argmax(grades)\n",
    "highest_grade_index"
   ]
  },
  {
   "cell_type": "code",
   "execution_count": 54,
   "id": "fced457f-c16c-4b6a-aae3-ea3bf7232d4f",
   "metadata": {},
   "outputs": [
    {
     "data": {
      "text/plain": [
       "3"
      ]
     },
     "execution_count": 54,
     "metadata": {},
     "output_type": "execute_result"
    }
   ],
   "source": [
    "#Use numpy function to count the number of students who scored above 90.\n",
    "grades =np.array([85, 90, 88, 92, 95, 80, 75, 98])\n",
    "studentscore_above_90 = np.sum(grades>90)\n",
    "studentscore_above_90"
   ]
  },
  {
   "cell_type": "code",
   "execution_count": 60,
   "id": "b20a4c13-76af-4872-b67d-332c5b850759",
   "metadata": {},
   "outputs": [
    {
     "data": {
      "text/plain": [
       "37.5"
      ]
     },
     "execution_count": 60,
     "metadata": {},
     "output_type": "execute_result"
    }
   ],
   "source": [
    "#Use numpy function to calculate the percentage of students who scored above 90.\n",
    "grades =np.array([85, 90, 88, 92, 95, 80, 75, 98])\n",
    "percentage_score_above_90 = np.mean(grades > 90) * 100\n",
    "percentage_score_above_90"
   ]
  },
  {
   "cell_type": "code",
   "execution_count": 64,
   "id": "519e3433-5280-45ad-97fa-3894a8a94814",
   "metadata": {},
   "outputs": [
    {
     "data": {
      "text/plain": [
       "0.0"
      ]
     },
     "execution_count": 64,
     "metadata": {},
     "output_type": "execute_result"
    }
   ],
   "source": [
    "#Use numpy function to calculate the percentage of students who scored below 75\n",
    "grades =np.array([85, 90, 88, 92, 95, 80, 75, 98])\n",
    "percentage_score_below_75 = np.mean(grades < 75) * 100\n",
    "percentage_score_below_75"
   ]
  },
  {
   "cell_type": "code",
   "execution_count": 70,
   "id": "fb756a45-a724-44ba-a2d0-1b41cb3bdc9e",
   "metadata": {},
   "outputs": [
    {
     "data": {
      "text/plain": [
       "array([92, 95, 98])"
      ]
     },
     "execution_count": 70,
     "metadata": {},
     "output_type": "execute_result"
    }
   ],
   "source": [
    "#Use numpy function to extract all the grades above 90 and put them in a new array called \"high_performers\".\n",
    "grades =np.array([85, 90, 88, 92, 95, 80, 75, 98])\n",
    "high_performers= grades[grades > 90]\n",
    "high_performers"
   ]
  },
  {
   "cell_type": "code",
   "execution_count": 74,
   "id": "12cdc40e-4be0-4062-8d6f-e6e705cfd3b4",
   "metadata": {},
   "outputs": [
    {
     "data": {
      "text/plain": [
       "array([85, 90, 88, 92, 95, 80, 98])"
      ]
     },
     "execution_count": 74,
     "metadata": {},
     "output_type": "execute_result"
    }
   ],
   "source": [
    "#Create a new array called \"passing_grades\" that contains all the grades above 75.\n",
    "passing_grades = grades[grades >75]\n",
    "passing_grades"
   ]
  },
  {
   "cell_type": "code",
   "execution_count": null,
   "id": "9f111112-15fb-4763-b969-0cd9062b8005",
   "metadata": {},
   "outputs": [],
   "source": []
  }
 ],
 "metadata": {
  "kernelspec": {
   "display_name": "Python 3 (ipykernel)",
   "language": "python",
   "name": "python3"
  },
  "language_info": {
   "codemirror_mode": {
    "name": "ipython",
    "version": 3
   },
   "file_extension": ".py",
   "mimetype": "text/x-python",
   "name": "python",
   "nbconvert_exporter": "python",
   "pygments_lexer": "ipython3",
   "version": "3.12.4"
  }
 },
 "nbformat": 4,
 "nbformat_minor": 5
}
