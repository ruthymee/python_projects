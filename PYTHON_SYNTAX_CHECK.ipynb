{
 "cells": [
  {
   "cell_type": "markdown",
   "id": "f1e4d38e-1704-422c-a902-a9046494fe30",
   "metadata": {},
   "source": [
    "Congratulations, you've got a job at Python Pizza. Your first job is to build an automatic pizza order program. Based on a user's order, work out their final bill.\n",
    "\n",
    " ``` Small Pizza: $15 ``` ``` \n",
    "\n",
    "``` Medium Pizza: $20 ``` \n",
    "\n",
    "``` Large Pizza: $25 ``` \n",
    "\n",
    "If they want to add pepperoni :\n",
    "\n",
    "``` Pepperoni for Small Pizza: +$2 ``` \n",
    "\n",
    "``` Pepperoni for Medium or Large Pizza: +$3 ```\n",
    "\n",
    "If they want cheese :\n",
    "\n",
    " ``` Extra cheese for any size pizza: + $1 ```\n",
    "\n"
   ]
  },
  {
   "cell_type": "code",
   "execution_count": 79,
   "id": "21ea99c4-0430-42da-b26f-8e200caff1d3",
   "metadata": {},
   "outputs": [
    {
     "name": "stdout",
     "output_type": "stream",
     "text": [
      "Welcome to Python Pizza Deliveries\n"
     ]
    },
    {
     "name": "stdin",
     "output_type": "stream",
     "text": [
      "what size of pizza would you like to order? (small,medium,large): large\n",
      "would you like to add pepperoni? (yes/no): yes\n",
      "would you like to add extra cheese? (yes/no: yes\n"
     ]
    },
    {
     "name": "stdout",
     "output_type": "stream",
     "text": [
      "Your total price is: $29.\n"
     ]
    }
   ],
   "source": [
    "print(\"Welcome to Python Pizza Deliveries\") #message to welcome customer\n",
    "\n",
    "size = input(\"what size of pizza would you like to order? (small,medium,large):\").lower() #asking the customer to input the size of pizza\n",
    "\n",
    "add_pepperoni = input(\"would you like to add pepperoni? (yes/no):\").lower() #asking the customer to input if he/she want pepperoni or not\n",
    "\n",
    "extra_cheese = input(\"would you like to add extra cheese? (yes/no:\").lower() # asking the customer to input if he/she want extra cheese or not\n",
    "\n",
    "\n",
    "\n",
    "\n",
    "# pizza price according to size\n",
    "pizza_price = 0\n",
    "if size == \"small\":\n",
    "    pizza_price += 15\n",
    "elif size == \"medium\":\n",
    "    pizza_price += 20\n",
    "elif size == \"large\":\n",
    "    pizza_price += 25\n",
    "\n",
    "#price of pepperoni\n",
    "if add_pepperoni == \"yes\":\n",
    "    if size == \"small\":\n",
    "        pizza_price += 2 #add 2$ to small pizza order\n",
    "\n",
    "    else:\n",
    "        pizza_price += 3 #add 3$ to medium/large pizza order\n",
    "\n",
    "\n",
    "# price for extra cheese\n",
    "if extra_cheese == \"yes\":\n",
    "    pizza_price += 1\n",
    "    \n",
    "print(f\"Your total price is: ${pizza_price}.\") # displays the final bill\n"
   ]
  },
  {
   "cell_type": "code",
   "execution_count": null,
   "id": "ef5e711b-92ab-455e-8521-e95eec62bd94",
   "metadata": {},
   "outputs": [],
   "source": []
  }
 ],
 "metadata": {
  "kernelspec": {
   "display_name": "Python 3 (ipykernel)",
   "language": "python",
   "name": "python3"
  },
  "language_info": {
   "codemirror_mode": {
    "name": "ipython",
    "version": 3
   },
   "file_extension": ".py",
   "mimetype": "text/x-python",
   "name": "python",
   "nbconvert_exporter": "python",
   "pygments_lexer": "ipython3",
   "version": "3.12.4"
  }
 },
 "nbformat": 4,
 "nbformat_minor": 5
}
